{
 "cells": [
  {
   "cell_type": "markdown",
   "metadata": {},
   "source": [
    "Problems List:\n",
    "\n",
    "           1-String Immutable\n",
    "           2-String Functions\n",
    "           3-String Formatting\n",
    "           4-RegEx"
   ]
  }
 ],
 "metadata": {
  "language_info": {
   "name": "python"
  },
  "orig_nbformat": 4
 },
 "nbformat": 4,
 "nbformat_minor": 2
}

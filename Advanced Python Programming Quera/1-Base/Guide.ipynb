{
 "cells": [
  {
   "cell_type": "markdown",
   "id": "682a24fb-04a2-423a-8f2d-0ce42cfae89d",
   "metadata": {},
   "source": [
    "Problems List:\n",
    "\n",
    "           1-Casting String to Float\n",
    "           2-Pass keyword\n",
    "           3-Iterator\n",
    "           4-Assignment Expressions\n",
    "           5-Function as a Object\n",
    "           6-Interpreter \n",
    "           7-Indentation Error"
   ]
  }
 ],
 "metadata": {
  "kernelspec": {
   "display_name": "Python 3 (ipykernel)",
   "language": "python",
   "name": "python3"
  },
  "language_info": {
   "codemirror_mode": {
    "name": "ipython",
    "version": 3
   },
   "file_extension": ".py",
   "mimetype": "text/x-python",
   "name": "python",
   "nbconvert_exporter": "python",
   "pygments_lexer": "ipython3",
   "version": "3.10.4"
  }
 },
 "nbformat": 4,
 "nbformat_minor": 5
}
